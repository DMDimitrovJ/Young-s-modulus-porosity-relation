{
 "cells": [
  {
   "cell_type": "code",
   "execution_count": 7,
   "metadata": {},
   "outputs": [],
   "source": [
    "\"\"\"\n",
    "Copyright 2018 Nadheesh Jihan\n",
    "   Licensed under the Apache License, Version 2.0 (the \"License\");\n",
    "   you may not use this file except in compliance with the License.\n",
    "   You may obtain a copy of the License at\n",
    "       http://www.apache.org/licenses/LICENSE-2.0\n",
    "   Unless required by applicable law or agreed to in writing, software\n",
    "   distributed under the License is distributed on an \"AS IS\" BASIS,\n",
    "   WITHOUT WARRANTIES OR CONDITIONS OF ANY KIND, either express or implied.\n",
    "   See the License for the specific language governing permissions and\n",
    "   limitations under the License.\n",
    "   Demonstrate the definition of Linear regression model using PyMC3.\n",
    "\"\"\"\n",
    "\n",
    "import matplotlib.pyplot as plt\n",
    "import numpy as np\n",
    "import pymc3 as pm\n",
    "from sklearn.metrics import mean_squared_error\n",
    "from sklearn.model_selection import train_test_split\n",
    "#from theano import shared, tensor as tt"
   ]
  },
  {
   "cell_type": "code",
   "execution_count": 2,
   "metadata": {},
   "outputs": [
    {
     "name": "stderr",
     "output_type": "stream",
     "text": [
      "<ipython-input-2-90638a571aa6>:58: FutureWarning: In v4.0, pm.sample will return an `arviz.InferenceData` object instead of a `MultiTrace` by default. You can pass return_inferencedata=True or return_inferencedata=False to be safe and silence this warning.\n",
      "  trace = pm.sample(1000)  # draw 3000 posterior samples using NUTS sampling\n",
      "Auto-assigning NUTS sampler...\n",
      "Initializing NUTS using jitter+adapt_diag...\n",
      "C:\\Users\\DiyanDimitrov\\anaconda3\\lib\\site-packages\\theano\\tensor\\elemwise.py:826: RuntimeWarning: invalid value encountered in log\n",
      "  variables = ufunc(*ufunc_args, **ufunc_kwargs)\n",
      "Multiprocess sampling (2 chains in 2 jobs)\n",
      "NUTS: [sigma, Intercept, x]\n"
     ]
    },
    {
     "data": {
      "text/html": [
       "\n",
       "    <div>\n",
       "        <style>\n",
       "            /* Turns off some styling */\n",
       "            progress {\n",
       "                /* gets rid of default border in Firefox and Opera. */\n",
       "                border: none;\n",
       "                /* Needs to be in here for Safari polyfill so background images work as expected. */\n",
       "                background-size: auto;\n",
       "            }\n",
       "            .progress-bar-interrupted, .progress-bar-interrupted::-webkit-progress-bar {\n",
       "                background: #F44336;\n",
       "            }\n",
       "        </style>\n",
       "      <progress value='4000' class='' max='4000' style='width:300px; height:20px; vertical-align: middle;'></progress>\n",
       "      100.00% [4000/4000 02:28<00:00 Sampling 2 chains, 0 divergences]\n",
       "    </div>\n",
       "    "
      ],
      "text/plain": [
       "<IPython.core.display.HTML object>"
      ]
     },
     "metadata": {},
     "output_type": "display_data"
    },
    {
     "name": "stderr",
     "output_type": "stream",
     "text": [
      "Sampling 2 chains for 1_000 tune and 1_000 draw iterations (2_000 + 2_000 draws total) took 157 seconds.\n"
     ]
    },
    {
     "ename": "AttributeError",
     "evalue": "module 'pymc3' has no attribute 'sample_ppc'",
     "output_type": "error",
     "traceback": [
      "\u001b[1;31m---------------------------------------------------------------------------\u001b[0m",
      "\u001b[1;31mAttributeError\u001b[0m                            Traceback (most recent call last)",
      "\u001b[1;32m<ipython-input-2-90638a571aa6>\u001b[0m in \u001b[0;36m<module>\u001b[1;34m\u001b[0m\n\u001b[0;32m     61\u001b[0m \u001b[1;31m# uses posterior predictive checks (PPC)\u001b[0m\u001b[1;33m\u001b[0m\u001b[1;33m\u001b[0m\u001b[1;33m\u001b[0m\u001b[0m\n\u001b[0;32m     62\u001b[0m \u001b[0mshared_x\u001b[0m\u001b[1;33m.\u001b[0m\u001b[0mset_value\u001b[0m\u001b[1;33m(\u001b[0m\u001b[0mx_test\u001b[0m\u001b[1;33m)\u001b[0m  \u001b[1;31m# let's set the shared x to the test dataset\u001b[0m\u001b[1;33m\u001b[0m\u001b[1;33m\u001b[0m\u001b[0m\n\u001b[1;32m---> 63\u001b[1;33m \u001b[0mppc\u001b[0m \u001b[1;33m=\u001b[0m \u001b[0mpm\u001b[0m\u001b[1;33m.\u001b[0m\u001b[0msample_ppc\u001b[0m\u001b[1;33m(\u001b[0m\u001b[0mtrace\u001b[0m\u001b[1;33m,\u001b[0m \u001b[0mmodel\u001b[0m\u001b[1;33m=\u001b[0m\u001b[0mmodel\u001b[0m\u001b[1;33m,\u001b[0m \u001b[0msamples\u001b[0m\u001b[1;33m=\u001b[0m\u001b[1;36m1000\u001b[0m\u001b[1;33m)\u001b[0m  \u001b[1;31m# performs PPC\u001b[0m\u001b[1;33m\u001b[0m\u001b[1;33m\u001b[0m\u001b[0m\n\u001b[0m\u001b[0;32m     64\u001b[0m \u001b[0mpredictions\u001b[0m \u001b[1;33m=\u001b[0m \u001b[0mppc\u001b[0m\u001b[1;33m[\u001b[0m\u001b[1;34m'y'\u001b[0m\u001b[1;33m]\u001b[0m\u001b[1;33m.\u001b[0m\u001b[0mmean\u001b[0m\u001b[1;33m(\u001b[0m\u001b[0maxis\u001b[0m\u001b[1;33m=\u001b[0m\u001b[1;36m0\u001b[0m\u001b[1;33m)\u001b[0m  \u001b[1;31m# compute the mean of the samples draws from each new y\u001b[0m\u001b[1;33m\u001b[0m\u001b[1;33m\u001b[0m\u001b[0m\n\u001b[0;32m     65\u001b[0m \u001b[1;33m\u001b[0m\u001b[0m\n",
      "\u001b[1;31mAttributeError\u001b[0m: module 'pymc3' has no attribute 'sample_ppc'"
     ]
    }
   ],
   "source": [
    "\"\"\"\n",
    "Copyright 2018 Nadheesh Jihan\n",
    "   Licensed under the Apache License, Version 2.0 (the \"License\");\n",
    "   you may not use this file except in compliance with the License.\n",
    "   You may obtain a copy of the License at\n",
    "       http://www.apache.org/licenses/LICENSE-2.0\n",
    "   Unless required by applicable law or agreed to in writing, software\n",
    "   distributed under the License is distributed on an \"AS IS\" BASIS,\n",
    "   WITHOUT WARRANTIES OR CONDITIONS OF ANY KIND, either express or implied.\n",
    "   See the License for the specific language governing permissions and\n",
    "   limitations under the License.\n",
    "   Demonstrate the definition of Linear regression model using PyMC3.\n",
    "\"\"\"\n",
    "\n",
    "import matplotlib.pyplot as plt\n",
    "import numpy as np\n",
    "import pymc3 as pm\n",
    "from sklearn.metrics import mean_squared_error\n",
    "from sklearn.model_selection import train_test_split\n",
    "from theano import shared, tensor as tt\n",
    "\n",
    "size = 100  # no of data samples\n",
    "true_intercept = 0.5  # intercept of the regression line\n",
    "true_slope = 2  # slop (coefficient) of x\n",
    "\n",
    "x = np.linspace(0, 1, size)  # generate some random values for x in the given range (0,1)\n",
    "\n",
    "# performs simple linear regression\n",
    "# y = a + b*x\n",
    "true_regression_line = true_intercept + true_slope * x\n",
    "\n",
    "# we can't use true regression values for training the model\n",
    "# therefore, add some random noise\n",
    "y = true_regression_line + np.random.normal(scale=.3, size=size)\n",
    "\n",
    "# split the data points into train and test split\n",
    "x_train, x_test, y_train, y_test, true_y1, true_y2 = train_test_split(x, y, true_regression_line)\n",
    "\n",
    "# we use a shared variable from theano to feed the x values into the model\n",
    "# this is need for PPC\n",
    "# when using the model for predictions we can set this shared variable to x_test\n",
    "shared_x = shared(x_train)\n",
    "\n",
    "# training the model\n",
    "# model specifications in PyMC3 are wrapped in a with-statement\n",
    "with pm.Model() as model:\n",
    "    # Define priors\n",
    "    x_coeff = pm.Normal('x', 0, sd=20)  # prior for coefficient of x\n",
    "    intercept = pm.Normal('Intercept', 0, sd=20)  # prior for the intercept\n",
    "    sigma = pm.HalfCauchy('sigma', beta=10)  # prior for the error term of due to the noise\n",
    "\n",
    "    mu = intercept + tt.dot(shared_x, x_coeff)  # represent the linear regression relationship\n",
    "\n",
    "    # Define likelihood\n",
    "    likelihood = pm.Normal('y', mu=mu, sd=sigma, observed=y_train)\n",
    "\n",
    "    # Inference!\n",
    "    trace = pm.sample(1000)  # draw 3000 posterior samples using NUTS sampling\n",
    "\n",
    "# predicting the unseen y values\n",
    "# uses posterior predictive checks (PPC)\n"
   ]
  },
  {
   "cell_type": "code",
   "execution_count": 6,
   "metadata": {},
   "outputs": [
    {
     "name": "stderr",
     "output_type": "stream",
     "text": [
      "C:\\Users\\DiyanDimitrov\\anaconda3\\lib\\site-packages\\pymc3\\sampling.py:1689: UserWarning: samples parameter is smaller than nchains times ndraws, some draws and/or chains may not be represented in the returned posterior predictive sample\n",
      "  warnings.warn(\n"
     ]
    },
    {
     "data": {
      "text/html": [
       "\n",
       "    <div>\n",
       "        <style>\n",
       "            /* Turns off some styling */\n",
       "            progress {\n",
       "                /* gets rid of default border in Firefox and Opera. */\n",
       "                border: none;\n",
       "                /* Needs to be in here for Safari polyfill so background images work as expected. */\n",
       "                background-size: auto;\n",
       "            }\n",
       "            .progress-bar-interrupted, .progress-bar-interrupted::-webkit-progress-bar {\n",
       "                background: #F44336;\n",
       "            }\n",
       "        </style>\n",
       "      <progress value='1000' class='' max='1000' style='width:300px; height:20px; vertical-align: middle;'></progress>\n",
       "      100.00% [1000/1000 00:03<00:00]\n",
       "    </div>\n",
       "    "
      ],
      "text/plain": [
       "<IPython.core.display.HTML object>"
      ]
     },
     "metadata": {},
     "output_type": "display_data"
    },
    {
     "name": "stdout",
     "output_type": "stream",
     "text": [
      "\n",
      " MSE of simple linear regression using bayesian : 0.11044133687054143\n",
      "\n"
     ]
    }
   ],
   "source": [
    "shared_x.set_value(x_test)  # let's set the shared x to the test dataset\n",
    "ppc = pm.sample_posterior_predictive(trace, model=model, samples=1000)  # performs PPC\n",
    "predictions = ppc['y'].mean(axis=0)  # compute the mean of the samples draws from each new y\n",
    "\n",
    "# now you can measure the error\n",
    "print(\"\\n MSE of simple linear regression using bayesian : {0}\\n\".format(mean_squared_error(y_test, predictions)))\n",
    "\n"
   ]
  },
  {
   "cell_type": "code",
   "execution_count": 4,
   "metadata": {},
   "outputs": [
    {
     "name": "stderr",
     "output_type": "stream",
     "text": [
      "C:\\Users\\DiyanDimitrov\\anaconda3\\lib\\site-packages\\pymc3\\plots\\posteriorplot.py:59: DeprecationWarning: The `plot_posterior_predictive_glm` function will migrate to Arviz in a future release. \n",
      "Keep up to date with `ArviZ <https://arviz-devs.github.io/arviz/>`_ for future updates.\n",
      "  warnings.warn(\n"
     ]
    },
    {
     "data": {
      "image/png": "[encoded data removed]",
      "text/plain": [
       "<Figure size 360x360 with 1 Axes>"
      ]
     },
     "metadata": {
      "needs_background": "light"
     },
     "output_type": "display_data"
    }
   ],
   "source": [
    "# let's plot the regression lines\n",
    "fig = plt.figure(figsize=(5, 5))\n",
    "\n",
    "pm.plot_posterior_predictive_glm(trace, samples=100,\n",
    "                                 label='posterior predictive regression lines')\n",
    "plt.plot(x_test, true_y2, label='true regression line', lw=2., c='g')\n",
    "\n",
    "plt.plot(x_test, true_y2, 'x', label='true y', color=\"blue\")\n",
    "plt.plot(x_test, predictions, 'x', label='prediction', color=\"red\")\n",
    "plt.title('n = {0}'.format(size))\n",
    "plt.legend(loc=0)\n",
    "plt.xlabel('x')\n",
    "plt.ylabel('y')\n",
    "\n",
    "plt.show()"
   ]
  },
  {
   "cell_type": "code",
   "execution_count": null,
   "metadata": {},
   "outputs": [],
   "source": []
  }
 ],
 "metadata": {
  "kernelspec": {
   "display_name": "Python 3",
   "language": "python",
   "name": "python3"
  },
  "language_info": {
   "codemirror_mode": {
    "name": "ipython",
    "version": 3
   },
   "file_extension": ".py",
   "mimetype": "text/x-python",
   "name": "python",
   "nbconvert_exporter": "python",
   "pygments_lexer": "ipython3",
   "version": "3.8.5"
  }
 },
 "nbformat": 4,
 "nbformat_minor": 4
}
